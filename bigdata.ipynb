{
  "nbformat": 4,
  "nbformat_minor": 0,
  "metadata": {
    "colab": {
      "provenance": []
    },
    "kernelspec": {
      "name": "python3",
      "display_name": "Python 3"
    },
    "language_info": {
      "name": "python"
    }
  },
  "cells": [
    {
      "cell_type": "code",
      "execution_count": 2,
      "metadata": {
        "colab": {
          "base_uri": "https://localhost:8080/"
        },
        "id": "sBZ4YfsyLLBC",
        "outputId": "58760064-d752-4a98-e9bd-36026cd24fdc"
      },
      "outputs": [
        {
          "output_type": "stream",
          "name": "stdout",
          "text": [
            "Volume of data  1000000\n"
          ]
        }
      ],
      "source": [
        "import numpy as np\n",
        "#generate  a large volume of random data\n",
        "volume_data=np.random.rand(1000000)\n",
        "print(\"Volume of data \",len(volume_data))"
      ]
    },
    {
      "cell_type": "code",
      "source": [
        "import time\n",
        "#simulate streaming data every second for 10 seconds\n",
        "for i in range(10):\n",
        "  velocity_data=np.random.rand()\n",
        "  print(\"velocity data point\",velocity_data)\n",
        "  time.sleep(2)\n"
      ],
      "metadata": {
        "colab": {
          "base_uri": "https://localhost:8080/"
        },
        "id": "_-rhISfvLj6c",
        "outputId": "f82b1efa-aaad-43ec-9fe0-869d24aaffb3"
      },
      "execution_count": 5,
      "outputs": [
        {
          "output_type": "stream",
          "name": "stdout",
          "text": [
            "velocity data point 0.16333933691281832\n",
            "velocity data point 0.9291278105710851\n",
            "velocity data point 0.5656598321507617\n",
            "velocity data point 0.45066716400318474\n",
            "velocity data point 0.8539525616651922\n",
            "velocity data point 0.19659083965155055\n",
            "velocity data point 0.24627037794069118\n",
            "velocity data point 0.7561242913945218\n",
            "velocity data point 0.8665773587495841\n",
            "velocity data point 0.3713148391680756\n"
          ]
        }
      ]
    },
    {
      "cell_type": "code",
      "source": [
        "#structured data\n",
        "structured_data={' id':1,'name':'john','age':30}\n",
        "print(structured_data)\n",
        "#semistructured data\n",
        "semi_structured_data={'person':{'name':'alice','age':25,'city':'newyork'}}\n",
        "#unstructured data\n",
        "unstructutred_data=\" this is a sample text document . It can contain any\""
      ],
      "metadata": {
        "colab": {
          "base_uri": "https://localhost:8080/"
        },
        "id": "HZ2Yz00uNIZX",
        "outputId": "a312acb8-0cd2-46fc-a76f-6182f732c7b2"
      },
      "execution_count": 6,
      "outputs": [
        {
          "output_type": "stream",
          "name": "stdout",
          "text": [
            "{' id': 1, 'name': 'john', 'age': 30}\n"
          ]
        }
      ]
    },
    {
      "cell_type": "code",
      "source": [
        "import random\n",
        "\n",
        "# Generate some random data with noise\n",
        "veracity_data = [[random.choice([1, 2, 3, None]) for _ in range(20)]]\n",
        "\n",
        "# Print the veracity data\n",
        "print(\"Veracity data:\", veracity_data)"
      ],
      "metadata": {
        "colab": {
          "base_uri": "https://localhost:8080/"
        },
        "id": "mceuhgTROxNS",
        "outputId": "b7be84c2-e9ec-4824-8f9e-321a2ed14a7c"
      },
      "execution_count": 10,
      "outputs": [
        {
          "output_type": "stream",
          "name": "stdout",
          "text": [
            "Veracity data: [[1, 3, 3, 2, 2, 3, None, 1, 2, 3, 1, 1, 3, 2, 2, None, 3, None, None, None]]\n"
          ]
        }
      ]
    },
    {
      "cell_type": "code",
      "source": [],
      "metadata": {
        "id": "JfUzgnX6QAlK"
      },
      "execution_count": null,
      "outputs": []
    }
  ]
}