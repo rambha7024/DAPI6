{
  "nbformat": 4,
  "nbformat_minor": 0,
  "metadata": {
    "colab": {
      "provenance": []
    },
    "kernelspec": {
      "name": "python3",
      "display_name": "Python 3"
    },
    "language_info": {
      "name": "python"
    }
  },
  "cells": [
    {
      "cell_type": "code",
      "execution_count": 2,
      "metadata": {
        "id": "HoS4HwxaYIJG"
      },
      "outputs": [],
      "source": [
        "import pandas as pd\n",
        "#create a sample data frame\n",
        "data={'date':pd.date_range(start='2022-01-01',end='2022-01-10'),\n",
        "      'sales':[10,15,12,18,20,25,22,28,30,35]}\n",
        "df=pd.DataFrame(data)\n",
        "# set date column as index\n",
        "\n",
        "df.set_index('date',inplace=True)"
      ]
    },
    {
      "cell_type": "code",
      "source": [
        "#calculate the 3-day moving average\n",
        "rolling_avg=df.rolling(window=3).mean()\n",
        "print(rolling_avg)"
      ],
      "metadata": {
        "colab": {
          "base_uri": "https://localhost:8080/"
        },
        "id": "xjuFXEX-Y_b9",
        "outputId": "58b2f400-7042-4dbc-bb14-1dc1c1da4b24"
      },
      "execution_count": 3,
      "outputs": [
        {
          "output_type": "stream",
          "name": "stdout",
          "text": [
            "                sales\n",
            "date                 \n",
            "2022-01-01        NaN\n",
            "2022-01-02        NaN\n",
            "2022-01-03  12.333333\n",
            "2022-01-04  15.000000\n",
            "2022-01-05  16.666667\n",
            "2022-01-06  21.000000\n",
            "2022-01-07  22.333333\n",
            "2022-01-08  25.000000\n",
            "2022-01-09  26.666667\n",
            "2022-01-10  31.000000\n"
          ]
        }
      ]
    },
    {
      "cell_type": "code",
      "source": [
        "import pandas as pd\n",
        "#create a sample data farame with daily dat sets\n",
        "data={'date':pd.date_range(start='2022-01-01',end='2022-01-31',freq='D'),\n",
        "      'sales':[10,15,12,18,20,25,22,28,30,34,40,45,50,55,60,65,70,75,80,85,90,95,100,105,110,115,120,125,130,135,140]}\n",
        "df=pd.DataFrame(data)\n",
        "#set date column as index\n",
        "df.set_index('date',inplace=True)\n",
        "# resample to monthly frequency and calculate the mean\n",
        "monthly_mean=df.resample('M').mean()\n",
        "print(monthly_mean)\n",
        "rolling_avg=df.rolling(window=30).mean()\n",
        "print(rolling_avg)\n",
        "\n"
      ],
      "metadata": {
        "colab": {
          "base_uri": "https://localhost:8080/"
        },
        "id": "7_pnMgymak5h",
        "outputId": "d2ecb262-fe2a-4d85-fe34-3d5f1eb03978"
      },
      "execution_count": 4,
      "outputs": [
        {
          "output_type": "stream",
          "name": "stdout",
          "text": [
            "                sales\n",
            "date                 \n",
            "2022-01-31  67.870968\n",
            "                sales\n",
            "date                 \n",
            "2022-01-01        NaN\n",
            "2022-01-02        NaN\n",
            "2022-01-03        NaN\n",
            "2022-01-04        NaN\n",
            "2022-01-05        NaN\n",
            "2022-01-06        NaN\n",
            "2022-01-07        NaN\n",
            "2022-01-08        NaN\n",
            "2022-01-09        NaN\n",
            "2022-01-10        NaN\n",
            "2022-01-11        NaN\n",
            "2022-01-12        NaN\n",
            "2022-01-13        NaN\n",
            "2022-01-14        NaN\n",
            "2022-01-15        NaN\n",
            "2022-01-16        NaN\n",
            "2022-01-17        NaN\n",
            "2022-01-18        NaN\n",
            "2022-01-19        NaN\n",
            "2022-01-20        NaN\n",
            "2022-01-21        NaN\n",
            "2022-01-22        NaN\n",
            "2022-01-23        NaN\n",
            "2022-01-24        NaN\n",
            "2022-01-25        NaN\n",
            "2022-01-26        NaN\n",
            "2022-01-27        NaN\n",
            "2022-01-28        NaN\n",
            "2022-01-29        NaN\n",
            "2022-01-30  65.466667\n",
            "2022-01-31  69.800000\n"
          ]
        }
      ]
    },
    {
      "cell_type": "code",
      "source": [
        "import pandas as pd\n",
        "import matplotlib.pyplot as plt"
      ],
      "metadata": {
        "id": "i_-lBYHScFHm"
      },
      "execution_count": 5,
      "outputs": []
    },
    {
      "cell_type": "code",
      "source": [
        "#assuming data.csv contains time series data with a date column\n",
        "#df=pd.read_csv('/content/drive/MyDrive/dataset/demand_june.csv',parse_dates=['date'],index_col='date')"
      ],
      "metadata": {
        "id": "rsGTvrbJccUS"
      },
      "execution_count": 7,
      "outputs": []
    },
    {
      "cell_type": "code",
      "source": [
        "#assuming data.csv contains time series data with a date column\n",
        "#df=pd.read_csv('/content/drive/MyDrive/dataset/Electric_Production.csv',parse_dates=['date'],index_col='date')\n",
        "#assuming data.csv contains time series data with a date column\n",
        "df=pd.read_csv('/content/drive/MyDrive/dataset/Electric_Production.csv',parse_dates=['DATE'],index_col='DATE')"
      ],
      "metadata": {
        "id": "5V7ZRHmwpH07"
      },
      "execution_count": 11,
      "outputs": []
    },
    {
      "cell_type": "code",
      "source": [
        "#Display first few rows\n",
        "print(df.head())\n",
        "# summary statstics\n",
        "print(df.describe())"
      ],
      "metadata": {
        "colab": {
          "base_uri": "https://localhost:8080/"
        },
        "id": "ZC6xXUhKcsoP",
        "outputId": "5551eee2-8541-444e-edd8-a6f2aa979ac0"
      },
      "execution_count": 32,
      "outputs": [
        {
          "output_type": "stream",
          "name": "stdout",
          "text": [
            "                    REGION  TOTALDEMAND   RRP PERIODTYPE\n",
            "date                                                    \n",
            "2023-01-06 00:05:00   NSW1      7953.04  90.2      TRADE\n",
            "2023-01-06 00:10:00   NSW1      7967.67  90.2      TRADE\n",
            "2023-01-06 00:15:00   NSW1      7923.89  90.2      TRADE\n",
            "2023-01-06 00:20:00   NSW1      7907.81  90.2      TRADE\n",
            "2023-01-06 00:25:00   NSW1      7855.31  90.2      TRADE\n",
            "        TOTALDEMAND           RRP\n",
            "count   7776.000000   7776.000000\n",
            "mean    8382.620156    106.006049\n",
            "std     1384.479890    248.338411\n",
            "min     5642.400000    -50.010000\n",
            "25%     7304.410000     64.990000\n",
            "50%     8207.640000     89.000000\n",
            "75%     9336.162500    117.940000\n",
            "max    12589.220000  14800.000000\n"
          ]
        }
      ]
    },
    {
      "cell_type": "code",
      "source": [
        "#plot the time series data\n",
        "df.plot()\n",
        "plt.xlabel('Date')\n",
        "plt.ylabel('Value')\n",
        "plt.title(\"Time series Analysis\")\n",
        "plt.show()"
      ],
      "metadata": {
        "colab": {
          "base_uri": "https://localhost:8080/",
          "height": 472
        },
        "id": "JsM0UdF7e6UZ",
        "outputId": "ba550708-dbf2-4dfa-f9c8-d52a7eebd96c"
      },
      "execution_count": 12,
      "outputs": [
        {
          "output_type": "display_data",
          "data": {
            "text/plain": [
              "<Figure size 640x480 with 1 Axes>"
            ],
            "image/png": "[encoded data removed]"
          },
          "metadata": {}
        }
      ]
    },
    {
      "cell_type": "code",
      "source": [
        "#select data for specific date range\n",
        "subset=df['2014-01-01':'2014-12-31']\n",
        "print(subset)\n",
        "#select data for a specific year\n",
        "subset=df['2014']\n",
        "# select data for a specific month\n",
        "subset=df['2014-01']"
      ],
      "metadata": {
        "colab": {
          "base_uri": "https://localhost:8080/"
        },
        "id": "ujzeaJjmfLzu",
        "outputId": "cca908ae-04e4-4eaf-8b1b-4d76397b345e"
      },
      "execution_count": 14,
      "outputs": [
        {
          "output_type": "stream",
          "name": "stdout",
          "text": [
            "               Value\n",
            "DATE                \n",
            "2014-01-01  124.2549\n",
            "2014-02-01  112.8811\n",
            "2014-03-01  104.7631\n",
            "2014-04-01   90.2867\n",
            "2014-05-01   92.1340\n",
            "2014-06-01  101.8780\n",
            "2014-07-01  108.5497\n",
            "2014-08-01  108.1940\n",
            "2014-09-01  100.4172\n",
            "2014-10-01   92.3837\n",
            "2014-11-01   99.7033\n",
            "2014-12-01  109.3477\n"
          ]
        },
        {
          "output_type": "stream",
          "name": "stderr",
          "text": [
            "<ipython-input-14-7ae10e6ade4e>:5: FutureWarning: Indexing a DataFrame with a datetimelike index using a single string to slice the rows, like `frame[string]`, is deprecated and will be removed in a future version. Use `frame.loc[string]` instead.\n",
            "  subset=df['2014']\n",
            "<ipython-input-14-7ae10e6ade4e>:7: FutureWarning: Indexing a DataFrame with a datetimelike index using a single string to slice the rows, like `frame[string]`, is deprecated and will be removed in a future version. Use `frame.loc[string]` instead.\n",
            "  subset=df['2014-01']\n"
          ]
        }
      ]
    },
    {
      "cell_type": "code",
      "source": [
        "# resample to monthly frequency and calculate the mean\n",
        "monthly_mean=df.resample('M').mean()\n",
        "print(monthly_mean)"
      ],
      "metadata": {
        "colab": {
          "base_uri": "https://localhost:8080/"
        },
        "id": "1cC39XWjgLyL",
        "outputId": "df3849a3-0192-44cd-d964-60d94ecc4d47"
      },
      "execution_count": 15,
      "outputs": [
        {
          "output_type": "stream",
          "name": "stdout",
          "text": [
            "               Value\n",
            "DATE                \n",
            "1985-01-31   72.5052\n",
            "1985-02-28   70.6720\n",
            "1985-03-31   62.4502\n",
            "1985-04-30   57.4714\n",
            "1985-05-31   55.3151\n",
            "...              ...\n",
            "2017-09-30   98.6154\n",
            "2017-10-31   93.6137\n",
            "2017-11-30   97.3359\n",
            "2017-12-31  114.7212\n",
            "2018-01-31  129.4048\n",
            "\n",
            "[397 rows x 1 columns]\n"
          ]
        }
      ]
    },
    {
      "cell_type": "code",
      "source": [
        "# compute a 30-day rolling mean\n",
        "rolling_mean=df.rolling(window=30).mean()\n",
        "print(rolling_mean)"
      ],
      "metadata": {
        "colab": {
          "base_uri": "https://localhost:8080/"
        },
        "id": "35PgtM3xgey0",
        "outputId": "5e9a6ad9-77fd-4239-a2e2-77ba18313dbf"
      },
      "execution_count": 16,
      "outputs": [
        {
          "output_type": "stream",
          "name": "stdout",
          "text": [
            "                 Value\n",
            "DATE                  \n",
            "1985-01-01         NaN\n",
            "1985-02-01         NaN\n",
            "1985-03-01         NaN\n",
            "1985-04-01         NaN\n",
            "1985-05-01         NaN\n",
            "...                ...\n",
            "2017-09-01  101.545190\n",
            "2017-10-01  101.674110\n",
            "2017-11-01  101.882207\n",
            "2017-12-01  102.284597\n",
            "2018-01-01  102.876910\n",
            "\n",
            "[397 rows x 1 columns]\n"
          ]
        }
      ]
    },
    {
      "cell_type": "code",
      "source": [
        "# shift the data by 1 day forward\n",
        "shifted_forward=df.shift(1)\n",
        "# shift data by 1 day backward\n",
        "shifted_backward=df.shift(-1)"
      ],
      "metadata": {
        "id": "CnnnQ6kRg10I"
      },
      "execution_count": 17,
      "outputs": []
    },
    {
      "cell_type": "code",
      "source": [
        "import pandas as pd\n",
        "\n",
        "# Assuming df is your DataFrame containing datetime values\n",
        "\n",
        "# Localize to UTC\n",
        "df = df.tz_localize('UTC')\n",
        "print(df)\n",
        "\n",
        "# Convert to US/Eastern time zone\n",
        "df = df.tz_convert('US/Eastern')\n",
        "print(df)\n"
      ],
      "metadata": {
        "colab": {
          "base_uri": "https://localhost:8080/"
        },
        "id": "nBE7-Cg_hMXl",
        "outputId": "24f0c507-dcd7-4f77-ff55-089db59042c7"
      },
      "execution_count": 18,
      "outputs": [
        {
          "output_type": "stream",
          "name": "stdout",
          "text": [
            "                              Value\n",
            "DATE                               \n",
            "1985-01-01 00:00:00+00:00   72.5052\n",
            "1985-02-01 00:00:00+00:00   70.6720\n",
            "1985-03-01 00:00:00+00:00   62.4502\n",
            "1985-04-01 00:00:00+00:00   57.4714\n",
            "1985-05-01 00:00:00+00:00   55.3151\n",
            "...                             ...\n",
            "2017-09-01 00:00:00+00:00   98.6154\n",
            "2017-10-01 00:00:00+00:00   93.6137\n",
            "2017-11-01 00:00:00+00:00   97.3359\n",
            "2017-12-01 00:00:00+00:00  114.7212\n",
            "2018-01-01 00:00:00+00:00  129.4048\n",
            "\n",
            "[397 rows x 1 columns]\n",
            "                              Value\n",
            "DATE                               \n",
            "1984-12-31 19:00:00-05:00   72.5052\n",
            "1985-01-31 19:00:00-05:00   70.6720\n",
            "1985-02-28 19:00:00-05:00   62.4502\n",
            "1985-03-31 19:00:00-05:00   57.4714\n",
            "1985-04-30 20:00:00-04:00   55.3151\n",
            "...                             ...\n",
            "2017-08-31 20:00:00-04:00   98.6154\n",
            "2017-09-30 20:00:00-04:00   93.6137\n",
            "2017-10-31 20:00:00-04:00   97.3359\n",
            "2017-11-30 19:00:00-05:00  114.7212\n",
            "2017-12-31 19:00:00-05:00  129.4048\n",
            "\n",
            "[397 rows x 1 columns]\n"
          ]
        }
      ]
    },
    {
      "cell_type": "code",
      "source": [],
      "metadata": {
        "id": "yXAPUR40h1EK"
      },
      "execution_count": null,
      "outputs": []
    }
  ]
}