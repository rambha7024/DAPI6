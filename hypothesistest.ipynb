{
  "nbformat": 4,
  "nbformat_minor": 0,
  "metadata": {
    "colab": {
      "provenance": []
    },
    "kernelspec": {
      "name": "python3",
      "display_name": "Python 3"
    },
    "language_info": {
      "name": "python"
    }
  },
  "cells": [
    {
      "cell_type": "code",
      "execution_count": 2,
      "metadata": {
        "colab": {
          "base_uri": "https://localhost:8080/"
        },
        "id": "We14CTcEpH7i",
        "outputId": "453be7ea-75f5-433f-c7f8-6906a9f88b69"
      },
      "outputs": [
        {
          "output_type": "stream",
          "name": "stdout",
          "text": [
            "[10.99342831  9.7234714  11.29537708 13.04605971  9.53169325  9.53172609\n",
            " 13.15842563 11.53486946  9.06105123 11.08512009  9.07316461  9.06854049\n",
            " 10.48392454  6.17343951  6.55016433  8.87542494  7.97433776 10.62849467\n",
            "  8.18395185  7.1753926  12.93129754  9.5484474  10.13505641  7.15050363\n",
            "  8.91123455 10.22184518  7.69801285 10.75139604  8.79872262  9.4166125 ]\n",
            "t-statistic: -1.1450173670383255\n",
            "p-value: 0.2615641461880169\n",
            "Fail to reject the null hypothesis. There is not enough evidence to suggest that the sample mean differs significantly from the population mean.\n"
          ]
        }
      ],
      "source": [
        "import numpy as np\n",
        "from scipy import stats\n",
        "\n",
        "# Sample data (random numbers)\n",
        "np.random.seed(42)  # for reproducibility\n",
        "sample_data = np.random.normal(loc=10, scale=2, size=30)  # sample of 30 observations from a normal distribution with mean 10 and standard deviation 2\n",
        "print(sample_data)\n",
        "# Population parameters\n",
        "population_mean = 10  # hypothesized population mean\n",
        "\n",
        "# Perform one-sample t-test\n",
        "t_statistic, p_value = stats.ttest_1samp(sample_data, population_mean)\n",
        "\n",
        "# Interpret the results\n",
        "alpha = 0.05  # significance level\n",
        "print(\"t-statistic:\", t_statistic)\n",
        "print(\"p-value:\", p_value)\n",
        "\n",
        "if p_value < alpha:\n",
        "    print(\"Reject the null hypothesis. There is enough evidence to suggest that the sample mean differs significantly from the population mean.\")\n",
        "else:\n",
        "    print(\"Fail to reject the null hypothesis. There is not enough evidence to suggest that the sample mean differs significantly from the population mean.\")"
      ]
    },
    {
      "cell_type": "code",
      "source": [
        "import random\n",
        "import pandas as pd\n",
        "np.random.seed(0)\n",
        "data=pd.DataFrame({\n",
        "    'Treatment':np.random.choice(['A','B','C'],size=100),\n",
        "    'Score':np.random.normal(loc=10,scale=2,size=100)\n",
        "})\n",
        "print(data)"
      ],
      "metadata": {
        "colab": {
          "base_uri": "https://localhost:8080/"
        },
        "id": "I7cnwhRv2FAR",
        "outputId": "ec49cbf1-0748-473f-9095-b93bbea1269c"
      },
      "execution_count": 3,
      "outputs": [
        {
          "output_type": "stream",
          "name": "stdout",
          "text": [
            "   Treatment      Score\n",
            "0          A   8.626821\n",
            "1          B  10.029747\n",
            "2          A   9.248668\n",
            "3          B   9.923553\n",
            "4          B  10.735949\n",
            "..       ...        ...\n",
            "95         A   9.933528\n",
            "96         C  10.131283\n",
            "97         A  10.531571\n",
            "98         B  12.303684\n",
            "99         C  10.276086\n",
            "\n",
            "[100 rows x 2 columns]\n"
          ]
        }
      ]
    },
    {
      "cell_type": "code",
      "source": [
        "mean_score_per_group=data.groupby('Treatment')['Score'].mean()\n",
        "print(mean_score_per_group)"
      ],
      "metadata": {
        "colab": {
          "base_uri": "https://localhost:8080/"
        },
        "id": "JOna1wE-4bGO",
        "outputId": "77a71ee2-cab0-4a4f-c3ae-af35ecc100aa"
      },
      "execution_count": 4,
      "outputs": [
        {
          "output_type": "stream",
          "name": "stdout",
          "text": [
            "Treatment\n",
            "A     9.611241\n",
            "B    10.099304\n",
            "C    10.010667\n",
            "Name: Score, dtype: float64\n"
          ]
        }
      ]
    },
    {
      "cell_type": "code",
      "source": [
        "#hypothesis\n",
        "group_A=data[data['Treatment']=='A']['Score']\n",
        "group_B=data[data['Treatment']=='B']['Score']\n",
        "t_stat,p_value=stats.ttest_ind(group_A,group_B)\n",
        "print(\"t-statistic:\",t_stat)\n",
        "print(\"p-value:\",p_value)"
      ],
      "metadata": {
        "colab": {
          "base_uri": "https://localhost:8080/"
        },
        "id": "jVUApksp5qdn",
        "outputId": "4da92bf4-a33f-42ae-80c6-e5f8534d0231"
      },
      "execution_count": 5,
      "outputs": [
        {
          "output_type": "stream",
          "name": "stdout",
          "text": [
            "t-statistic: -1.0341676575352792\n",
            "p-value: 0.3045674995802033\n"
          ]
        }
      ]
    },
    {
      "cell_type": "code",
      "source": [
        "#ANOVA\n",
        "f_stat,p_value=stats.f_oneway(data[data['Treatment']=='A']['Score'],\n",
        "                              data[data['Treatment']=='B']['Score'],\n",
        "                              data[data['Treatment']=='C']['Score'])\n",
        "print(\"F-statistic:\",f_stat)\n",
        "print(\"p-value:\",p_value)"
      ],
      "metadata": {
        "colab": {
          "base_uri": "https://localhost:8080/"
        },
        "id": "iVpGqn846pDq",
        "outputId": "8b815a40-8f2f-4424-943a-c27cd95f791c"
      },
      "execution_count": 6,
      "outputs": [
        {
          "output_type": "stream",
          "name": "stdout",
          "text": [
            "F-statistic: 0.6019178068930898\n",
            "p-value: 0.5497930622874936\n"
          ]
        }
      ]
    }
  ]
}